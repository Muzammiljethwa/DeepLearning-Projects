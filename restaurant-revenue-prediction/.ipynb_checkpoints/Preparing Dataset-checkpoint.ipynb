{
 "cells": [
  {
   "cell_type": "code",
   "execution_count": 2,
   "metadata": {},
   "outputs": [],
   "source": [
    "import numpy as np\n",
    "import pandas as pd\n",
    "import random\n",
    "import csv"
   ]
  },
  {
   "cell_type": "code",
   "execution_count": 3,
   "metadata": {},
   "outputs": [],
   "source": [
    "data = pd.read_csv(\"train.csv\")"
   ]
  },
  {
   "cell_type": "code",
   "execution_count": 4,
   "metadata": {},
   "outputs": [
    {
     "data": {
      "text/html": [
       "<div>\n",
       "<style scoped>\n",
       "    .dataframe tbody tr th:only-of-type {\n",
       "        vertical-align: middle;\n",
       "    }\n",
       "\n",
       "    .dataframe tbody tr th {\n",
       "        vertical-align: top;\n",
       "    }\n",
       "\n",
       "    .dataframe thead th {\n",
       "        text-align: right;\n",
       "    }\n",
       "</style>\n",
       "<table border=\"1\" class=\"dataframe\">\n",
       "  <thead>\n",
       "    <tr style=\"text-align: right;\">\n",
       "      <th></th>\n",
       "      <th>Id</th>\n",
       "      <th>Open Date</th>\n",
       "      <th>City</th>\n",
       "      <th>City Group</th>\n",
       "      <th>Type</th>\n",
       "      <th>P1</th>\n",
       "      <th>P2</th>\n",
       "      <th>P3</th>\n",
       "      <th>P4</th>\n",
       "      <th>P5</th>\n",
       "      <th>...</th>\n",
       "      <th>P29</th>\n",
       "      <th>P30</th>\n",
       "      <th>P31</th>\n",
       "      <th>P32</th>\n",
       "      <th>P33</th>\n",
       "      <th>P34</th>\n",
       "      <th>P35</th>\n",
       "      <th>P36</th>\n",
       "      <th>P37</th>\n",
       "      <th>revenue</th>\n",
       "    </tr>\n",
       "  </thead>\n",
       "  <tbody>\n",
       "    <tr>\n",
       "      <th>0</th>\n",
       "      <td>0</td>\n",
       "      <td>07/17/1999</td>\n",
       "      <td>İstanbul</td>\n",
       "      <td>Big Cities</td>\n",
       "      <td>IL</td>\n",
       "      <td>4</td>\n",
       "      <td>5.0</td>\n",
       "      <td>4.0</td>\n",
       "      <td>4.0</td>\n",
       "      <td>2</td>\n",
       "      <td>...</td>\n",
       "      <td>3.0</td>\n",
       "      <td>5</td>\n",
       "      <td>3</td>\n",
       "      <td>4</td>\n",
       "      <td>5</td>\n",
       "      <td>5</td>\n",
       "      <td>4</td>\n",
       "      <td>3</td>\n",
       "      <td>4</td>\n",
       "      <td>5653753.0</td>\n",
       "    </tr>\n",
       "    <tr>\n",
       "      <th>1</th>\n",
       "      <td>1</td>\n",
       "      <td>02/14/2008</td>\n",
       "      <td>Ankara</td>\n",
       "      <td>Big Cities</td>\n",
       "      <td>FC</td>\n",
       "      <td>4</td>\n",
       "      <td>5.0</td>\n",
       "      <td>4.0</td>\n",
       "      <td>4.0</td>\n",
       "      <td>1</td>\n",
       "      <td>...</td>\n",
       "      <td>3.0</td>\n",
       "      <td>0</td>\n",
       "      <td>0</td>\n",
       "      <td>0</td>\n",
       "      <td>0</td>\n",
       "      <td>0</td>\n",
       "      <td>0</td>\n",
       "      <td>0</td>\n",
       "      <td>0</td>\n",
       "      <td>6923131.0</td>\n",
       "    </tr>\n",
       "    <tr>\n",
       "      <th>2</th>\n",
       "      <td>2</td>\n",
       "      <td>03/09/2013</td>\n",
       "      <td>Diyarbakır</td>\n",
       "      <td>Other</td>\n",
       "      <td>IL</td>\n",
       "      <td>2</td>\n",
       "      <td>4.0</td>\n",
       "      <td>2.0</td>\n",
       "      <td>5.0</td>\n",
       "      <td>2</td>\n",
       "      <td>...</td>\n",
       "      <td>3.0</td>\n",
       "      <td>0</td>\n",
       "      <td>0</td>\n",
       "      <td>0</td>\n",
       "      <td>0</td>\n",
       "      <td>0</td>\n",
       "      <td>0</td>\n",
       "      <td>0</td>\n",
       "      <td>0</td>\n",
       "      <td>2055379.0</td>\n",
       "    </tr>\n",
       "    <tr>\n",
       "      <th>3</th>\n",
       "      <td>3</td>\n",
       "      <td>02/02/2012</td>\n",
       "      <td>Tokat</td>\n",
       "      <td>Other</td>\n",
       "      <td>IL</td>\n",
       "      <td>6</td>\n",
       "      <td>4.5</td>\n",
       "      <td>6.0</td>\n",
       "      <td>6.0</td>\n",
       "      <td>4</td>\n",
       "      <td>...</td>\n",
       "      <td>7.5</td>\n",
       "      <td>25</td>\n",
       "      <td>12</td>\n",
       "      <td>10</td>\n",
       "      <td>6</td>\n",
       "      <td>18</td>\n",
       "      <td>12</td>\n",
       "      <td>12</td>\n",
       "      <td>6</td>\n",
       "      <td>2675511.0</td>\n",
       "    </tr>\n",
       "    <tr>\n",
       "      <th>4</th>\n",
       "      <td>4</td>\n",
       "      <td>05/09/2009</td>\n",
       "      <td>Gaziantep</td>\n",
       "      <td>Other</td>\n",
       "      <td>IL</td>\n",
       "      <td>3</td>\n",
       "      <td>4.0</td>\n",
       "      <td>3.0</td>\n",
       "      <td>4.0</td>\n",
       "      <td>2</td>\n",
       "      <td>...</td>\n",
       "      <td>3.0</td>\n",
       "      <td>5</td>\n",
       "      <td>1</td>\n",
       "      <td>3</td>\n",
       "      <td>2</td>\n",
       "      <td>3</td>\n",
       "      <td>4</td>\n",
       "      <td>3</td>\n",
       "      <td>3</td>\n",
       "      <td>4316715.0</td>\n",
       "    </tr>\n",
       "  </tbody>\n",
       "</table>\n",
       "<p>5 rows × 43 columns</p>\n",
       "</div>"
      ],
      "text/plain": [
       "   Id   Open Date        City  City Group Type  P1   P2   P3   P4  P5  ...  \\\n",
       "0   0  07/17/1999    İstanbul  Big Cities   IL   4  5.0  4.0  4.0   2  ...   \n",
       "1   1  02/14/2008      Ankara  Big Cities   FC   4  5.0  4.0  4.0   1  ...   \n",
       "2   2  03/09/2013  Diyarbakır       Other   IL   2  4.0  2.0  5.0   2  ...   \n",
       "3   3  02/02/2012       Tokat       Other   IL   6  4.5  6.0  6.0   4  ...   \n",
       "4   4  05/09/2009   Gaziantep       Other   IL   3  4.0  3.0  4.0   2  ...   \n",
       "\n",
       "   P29  P30  P31  P32  P33  P34  P35  P36  P37    revenue  \n",
       "0  3.0    5    3    4    5    5    4    3    4  5653753.0  \n",
       "1  3.0    0    0    0    0    0    0    0    0  6923131.0  \n",
       "2  3.0    0    0    0    0    0    0    0    0  2055379.0  \n",
       "3  7.5   25   12   10    6   18   12   12    6  2675511.0  \n",
       "4  3.0    5    1    3    2    3    4    3    3  4316715.0  \n",
       "\n",
       "[5 rows x 43 columns]"
      ]
     },
     "execution_count": 4,
     "metadata": {},
     "output_type": "execute_result"
    }
   ],
   "source": [
    "data.head()"
   ]
  },
  {
   "cell_type": "code",
   "execution_count": 56,
   "metadata": {},
   "outputs": [
    {
     "data": {
      "text/plain": [
       "array(['Id', 'Open Date', 'City', 'City Group', 'Type', 'P1', 'P2', 'P3',\n",
       "       'P4', 'P5', 'P6', 'P7', 'P8', 'P9', 'P10', 'P11', 'P12', 'P13',\n",
       "       'P14', 'P15', 'P16', 'P17', 'P18', 'P19', 'P20', 'P21', 'P22',\n",
       "       'P23', 'P24', 'P25', 'P26', 'P27', 'P28', 'P29', 'P30', 'P31',\n",
       "       'P32', 'P33', 'P34', 'P35', 'P36', 'P37', 'revenue'], dtype=object)"
      ]
     },
     "execution_count": 56,
     "metadata": {},
     "output_type": "execute_result"
    }
   ],
   "source": [
    "heading = data.columns.values\n",
    "heading"
   ]
  },
  {
   "cell_type": "code",
   "execution_count": 58,
   "metadata": {},
   "outputs": [
    {
     "data": {
      "text/plain": [
       "array(['Type', 'P1', 'P2', 'P3', 'P4', 'P5', 'P6', 'P7', 'P8', 'P9',\n",
       "       'P10', 'P11', 'P12', 'P13', 'P14', 'P15', 'P16', 'P17', 'P18',\n",
       "       'P19', 'P20', 'P21', 'P22', 'P23', 'P24', 'P25', 'P26', 'P27',\n",
       "       'P28', 'P29', 'P30', 'P31', 'P32', 'P33', 'P34', 'P35', 'P36',\n",
       "       'P37', 'revenue'], dtype=object)"
      ]
     },
     "execution_count": 58,
     "metadata": {},
     "output_type": "execute_result"
    }
   ],
   "source": [
    "heading = heading[4:]\n",
    "heading"
   ]
  },
  {
   "cell_type": "code",
   "execution_count": 7,
   "metadata": {},
   "outputs": [
    {
     "name": "stdout",
     "output_type": "stream",
     "text": [
      "   P1   P2   P3   P4  P5  P6  P7  P8  P9  P10  ...  P29  P30  P31  P32  P33  \\\n",
      "0   4  5.0  4.0  4.0   2   2   5   4   5    5  ...  3.0    5    3    4    5   \n",
      "1   4  5.0  4.0  4.0   1   2   5   5   5    5  ...  3.0    0    0    0    0   \n",
      "2   2  4.0  2.0  5.0   2   3   5   5   5    5  ...  3.0    0    0    0    0   \n",
      "3   6  4.5  6.0  6.0   4   4  10   8  10   10  ...  7.5   25   12   10    6   \n",
      "4   3  4.0  3.0  4.0   2   2   5   5   5    5  ...  3.0    5    1    3    2   \n",
      "\n",
      "   P34  P35  P36  P37    revenue  \n",
      "0    5    4    3    4  5653753.0  \n",
      "1    0    0    0    0  6923131.0  \n",
      "2    0    0    0    0  2055379.0  \n",
      "3   18   12   12    6  2675511.0  \n",
      "4    3    4    3    3  4316715.0  \n",
      "\n",
      "[5 rows x 38 columns]\n"
     ]
    },
    {
     "data": {
      "text/plain": [
       "array(['IL', 'FC', 'DT'], dtype=object)"
      ]
     },
     "execution_count": 7,
     "metadata": {},
     "output_type": "execute_result"
    }
   ],
   "source": [
    "x = data.drop(columns = [\"Id\",\"Open Date\",\"City\",\"City Group\",\"Type\"] )\n",
    "print(x.head())\n",
    "x = np.array(x)\n",
    "category = np.array(data['Type'].unique())\n",
    "category"
   ]
  },
  {
   "cell_type": "code",
   "execution_count": 8,
   "metadata": {},
   "outputs": [
    {
     "data": {
      "text/plain": [
       "(array([[4.000000e+00, 5.000000e+00, 4.000000e+00, 4.000000e+00,\n",
       "         2.000000e+00, 2.000000e+00, 5.000000e+00, 4.000000e+00,\n",
       "         5.000000e+00, 5.000000e+00, 3.000000e+00, 5.000000e+00,\n",
       "         5.000000e+00, 1.000000e+00, 2.000000e+00, 2.000000e+00,\n",
       "         2.000000e+00, 4.000000e+00, 5.000000e+00, 4.000000e+00,\n",
       "         1.000000e+00, 3.000000e+00, 3.000000e+00, 1.000000e+00,\n",
       "         1.000000e+00, 1.000000e+00, 4.000000e+00, 2.000000e+00,\n",
       "         3.000000e+00, 5.000000e+00, 3.000000e+00, 4.000000e+00,\n",
       "         5.000000e+00, 5.000000e+00, 4.000000e+00, 3.000000e+00,\n",
       "         4.000000e+00, 5.653753e+06],\n",
       "        [2.000000e+00, 4.000000e+00, 2.000000e+00, 5.000000e+00,\n",
       "         2.000000e+00, 3.000000e+00, 5.000000e+00, 5.000000e+00,\n",
       "         5.000000e+00, 5.000000e+00, 2.000000e+00, 5.000000e+00,\n",
       "         5.000000e+00, 0.000000e+00, 0.000000e+00, 0.000000e+00,\n",
       "         0.000000e+00, 0.000000e+00, 1.000000e+00, 1.000000e+00,\n",
       "         1.000000e+00, 1.000000e+00, 1.000000e+00, 0.000000e+00,\n",
       "         0.000000e+00, 0.000000e+00, 0.000000e+00, 1.000000e+00,\n",
       "         3.000000e+00, 0.000000e+00, 0.000000e+00, 0.000000e+00,\n",
       "         0.000000e+00, 0.000000e+00, 0.000000e+00, 0.000000e+00,\n",
       "         0.000000e+00, 2.055379e+06],\n",
       "        [6.000000e+00, 4.500000e+00, 6.000000e+00, 6.000000e+00,\n",
       "         4.000000e+00, 4.000000e+00, 1.000000e+01, 8.000000e+00,\n",
       "         1.000000e+01, 1.000000e+01, 8.000000e+00, 1.000000e+01,\n",
       "         7.500000e+00, 6.000000e+00, 4.000000e+00, 9.000000e+00,\n",
       "         3.000000e+00, 1.200000e+01, 2.000000e+01, 1.200000e+01,\n",
       "         6.000000e+00, 1.000000e+00, 1.000000e+01, 2.000000e+00,\n",
       "         2.000000e+00, 2.500000e+00, 2.500000e+00, 2.500000e+00,\n",
       "         7.500000e+00, 2.500000e+01, 1.200000e+01, 1.000000e+01,\n",
       "         6.000000e+00, 1.800000e+01, 1.200000e+01, 1.200000e+01,\n",
       "         6.000000e+00, 2.675511e+06],\n",
       "        [3.000000e+00, 4.000000e+00, 3.000000e+00, 4.000000e+00,\n",
       "         2.000000e+00, 2.000000e+00, 5.000000e+00, 5.000000e+00,\n",
       "         5.000000e+00, 5.000000e+00, 2.000000e+00, 5.000000e+00,\n",
       "         5.000000e+00, 2.000000e+00, 1.000000e+00, 2.000000e+00,\n",
       "         1.000000e+00, 4.000000e+00, 2.000000e+00, 2.000000e+00,\n",
       "         1.000000e+00, 2.000000e+00, 1.000000e+00, 2.000000e+00,\n",
       "         3.000000e+00, 3.000000e+00, 5.000000e+00, 1.000000e+00,\n",
       "         3.000000e+00, 5.000000e+00, 1.000000e+00, 3.000000e+00,\n",
       "         2.000000e+00, 3.000000e+00, 4.000000e+00, 3.000000e+00,\n",
       "         3.000000e+00, 4.316715e+06],\n",
       "        [2.000000e+00, 3.000000e+00, 4.000000e+00, 4.000000e+00,\n",
       "         1.000000e+00, 5.000000e+00, 5.000000e+00, 5.000000e+00,\n",
       "         5.000000e+00, 5.000000e+00, 2.000000e+00, 5.000000e+00,\n",
       "         5.000000e+00, 3.000000e+00, 4.000000e+00, 4.000000e+00,\n",
       "         3.000000e+00, 4.000000e+00, 2.000000e+00, 4.000000e+00,\n",
       "         1.000000e+00, 2.000000e+00, 1.000000e+00, 5.000000e+00,\n",
       "         4.000000e+00, 4.000000e+00, 5.000000e+00, 1.000000e+00,\n",
       "         3.000000e+00, 4.000000e+00, 5.000000e+00, 2.000000e+00,\n",
       "         2.000000e+00, 3.000000e+00, 5.000000e+00, 4.000000e+00,\n",
       "         4.000000e+00, 5.166635e+06]]),\n",
       " array([[4.000000e+00, 5.000000e+00, 4.000000e+00, 4.000000e+00,\n",
       "         1.000000e+00, 2.000000e+00, 5.000000e+00, 5.000000e+00,\n",
       "         5.000000e+00, 5.000000e+00, 1.000000e+00, 5.000000e+00,\n",
       "         5.000000e+00, 0.000000e+00, 0.000000e+00, 0.000000e+00,\n",
       "         0.000000e+00, 0.000000e+00, 3.000000e+00, 2.000000e+00,\n",
       "         1.000000e+00, 3.000000e+00, 2.000000e+00, 0.000000e+00,\n",
       "         0.000000e+00, 0.000000e+00, 0.000000e+00, 3.000000e+00,\n",
       "         3.000000e+00, 0.000000e+00, 0.000000e+00, 0.000000e+00,\n",
       "         0.000000e+00, 0.000000e+00, 0.000000e+00, 0.000000e+00,\n",
       "         0.000000e+00, 6.923131e+06],\n",
       "        [6.000000e+00, 6.000000e+00, 4.500000e+00, 7.500000e+00,\n",
       "         8.000000e+00, 1.000000e+01, 1.000000e+01, 8.000000e+00,\n",
       "         8.000000e+00, 8.000000e+00, 1.000000e+01, 8.000000e+00,\n",
       "         6.000000e+00, 0.000000e+00, 0.000000e+00, 0.000000e+00,\n",
       "         0.000000e+00, 0.000000e+00, 5.000000e+00, 6.000000e+00,\n",
       "         3.000000e+00, 1.000000e+00, 5.000000e+00, 0.000000e+00,\n",
       "         0.000000e+00, 0.000000e+00, 0.000000e+00, 7.500000e+00,\n",
       "         5.000000e+00, 0.000000e+00, 0.000000e+00, 0.000000e+00,\n",
       "         0.000000e+00, 0.000000e+00, 0.000000e+00, 0.000000e+00,\n",
       "         0.000000e+00, 5.017319e+06],\n",
       "        [9.000000e+00, 6.000000e+00, 6.000000e+00, 6.000000e+00,\n",
       "         4.000000e+00, 4.000000e+00, 1.000000e+01, 8.000000e+00,\n",
       "         1.000000e+01, 1.000000e+01, 8.000000e+00, 1.000000e+01,\n",
       "         7.500000e+00, 0.000000e+00, 0.000000e+00, 0.000000e+00,\n",
       "         0.000000e+00, 0.000000e+00, 2.500000e+01, 1.500000e+01,\n",
       "         1.500000e+01, 3.000000e+00, 2.000000e+01, 0.000000e+00,\n",
       "         0.000000e+00, 0.000000e+00, 0.000000e+00, 1.000000e+01,\n",
       "         2.500000e+00, 0.000000e+00, 0.000000e+00, 0.000000e+00,\n",
       "         0.000000e+00, 0.000000e+00, 0.000000e+00, 0.000000e+00,\n",
       "         0.000000e+00, 3.745135e+06],\n",
       "        [4.000000e+00, 5.000000e+00, 4.000000e+00, 4.000000e+00,\n",
       "         1.000000e+00, 3.000000e+00, 5.000000e+00, 5.000000e+00,\n",
       "         5.000000e+00, 5.000000e+00, 2.000000e+00, 5.000000e+00,\n",
       "         5.000000e+00, 0.000000e+00, 0.000000e+00, 0.000000e+00,\n",
       "         0.000000e+00, 0.000000e+00, 3.000000e+00, 4.000000e+00,\n",
       "         1.000000e+00, 2.000000e+00, 1.000000e+00, 0.000000e+00,\n",
       "         0.000000e+00, 0.000000e+00, 0.000000e+00, 3.000000e+00,\n",
       "         3.000000e+00, 0.000000e+00, 0.000000e+00, 0.000000e+00,\n",
       "         0.000000e+00, 0.000000e+00, 0.000000e+00, 0.000000e+00,\n",
       "         0.000000e+00, 4.807746e+06],\n",
       "        [2.000000e+00, 2.000000e+00, 4.000000e+00, 4.000000e+00,\n",
       "         1.000000e+00, 2.000000e+00, 5.000000e+00, 5.000000e+00,\n",
       "         5.000000e+00, 5.000000e+00, 2.000000e+00, 5.000000e+00,\n",
       "         5.000000e+00, 0.000000e+00, 0.000000e+00, 0.000000e+00,\n",
       "         0.000000e+00, 0.000000e+00, 3.000000e+00, 3.000000e+00,\n",
       "         1.000000e+00, 3.000000e+00, 2.000000e+00, 0.000000e+00,\n",
       "         0.000000e+00, 0.000000e+00, 0.000000e+00, 2.000000e+00,\n",
       "         3.000000e+00, 0.000000e+00, 0.000000e+00, 0.000000e+00,\n",
       "         0.000000e+00, 0.000000e+00, 0.000000e+00, 0.000000e+00,\n",
       "         0.000000e+00, 1.999097e+06]]),\n",
       " array([[1.000000e+00, 3.000000e+00, 0.000000e+00, 5.000000e+00,\n",
       "         5.000000e+00, 5.000000e+00, 1.000000e+00, 5.000000e+00,\n",
       "         5.000000e+00, 5.000000e+00, 2.000000e+00, 5.000000e+00,\n",
       "         5.000000e+00, 0.000000e+00, 0.000000e+00, 0.000000e+00,\n",
       "         0.000000e+00, 0.000000e+00, 1.000000e+00, 2.000000e+00,\n",
       "         2.000000e+00, 1.000000e+00, 2.000000e+00, 0.000000e+00,\n",
       "         0.000000e+00, 0.000000e+00, 0.000000e+00, 2.000000e+00,\n",
       "         3.000000e+00, 0.000000e+00, 0.000000e+00, 0.000000e+00,\n",
       "         0.000000e+00, 0.000000e+00, 0.000000e+00, 0.000000e+00,\n",
       "         0.000000e+00, 3.810007e+06]]))"
      ]
     },
     "execution_count": 8,
     "metadata": {},
     "output_type": "execute_result"
    }
   ],
   "source": [
    "IL = np.array(x[data[\"Type\"]==\"IL\"])\n",
    "FC = np.array(x[data[\"Type\"]==\"FC\"])\n",
    "DT = np.array(x[data[\"Type\"]==\"DT\"])\n",
    "\n",
    "IL[:5],FC[:5],DT[:5]"
   ]
  },
  {
   "cell_type": "code",
   "execution_count": 9,
   "metadata": {},
   "outputs": [
    {
     "data": {
      "text/plain": [
       "array([4.000000e+00, 4.000000e+00, 5.000000e+00, 5.000000e+00,\n",
       "       2.000000e+00, 2.000000e+00, 5.000000e+00, 5.000000e+00,\n",
       "       5.000000e+00, 5.000000e+00, 2.000000e+00, 5.000000e+00,\n",
       "       5.000000e+00, 0.000000e+00, 0.000000e+00, 0.000000e+00,\n",
       "       0.000000e+00, 0.000000e+00, 3.000000e+00, 1.000000e+00,\n",
       "       2.000000e+00, 1.000000e+00, 1.000000e+00, 0.000000e+00,\n",
       "       0.000000e+00, 0.000000e+00, 0.000000e+00, 2.000000e+00,\n",
       "       3.000000e+00, 0.000000e+00, 0.000000e+00, 0.000000e+00,\n",
       "       0.000000e+00, 0.000000e+00, 0.000000e+00, 0.000000e+00,\n",
       "       0.000000e+00, 3.778621e+06])"
      ]
     },
     "execution_count": 9,
     "metadata": {},
     "output_type": "execute_result"
    }
   ],
   "source": [
    "FC[10]"
   ]
  },
  {
   "cell_type": "code",
   "execution_count": 17,
   "metadata": {},
   "outputs": [
    {
     "name": "stderr",
     "output_type": "stream",
     "text": [
      "<ipython-input-17-04a79e601378>:1: VisibleDeprecationWarning: Creating an ndarray from ragged nested sequences (which is a list-or-tuple of lists-or-tuples-or ndarrays with different lengths or shapes) is deprecated. If you meant to do this, you must specify 'dtype=object' when creating the ndarray\n",
      "  total = np.array([IL, FC, DT])\n"
     ]
    }
   ],
   "source": [
    "total = np.array([IL, FC, DT])"
   ]
  },
  {
   "cell_type": "code",
   "execution_count": 18,
   "metadata": {},
   "outputs": [
    {
     "data": {
      "text/plain": [
       "4.037839135819999"
      ]
     },
     "execution_count": 18,
     "metadata": {},
     "output_type": "execute_result"
    }
   ],
   "source": [
    "random.uniform(0,8)"
   ]
  },
  {
   "cell_type": "code",
   "execution_count": 19,
   "metadata": {},
   "outputs": [
    {
     "data": {
      "text/plain": [
       "array([[4.000000e+00, 5.000000e+00, 4.000000e+00, ..., 0.000000e+00,\n",
       "        0.000000e+00, 6.923131e+06],\n",
       "       [6.000000e+00, 6.000000e+00, 4.500000e+00, ..., 0.000000e+00,\n",
       "        0.000000e+00, 5.017319e+06],\n",
       "       [9.000000e+00, 6.000000e+00, 6.000000e+00, ..., 0.000000e+00,\n",
       "        0.000000e+00, 3.745135e+06],\n",
       "       ...,\n",
       "       [3.000000e+00, 4.000000e+00, 4.000000e+00, ..., 0.000000e+00,\n",
       "        0.000000e+00, 2.544857e+06],\n",
       "       [4.000000e+00, 5.000000e+00, 4.000000e+00, ..., 0.000000e+00,\n",
       "        0.000000e+00, 7.217634e+06],\n",
       "       [4.000000e+00, 5.000000e+00, 3.000000e+00, ..., 0.000000e+00,\n",
       "        0.000000e+00, 6.363241e+06]])"
      ]
     },
     "execution_count": 19,
     "metadata": {},
     "output_type": "execute_result"
    }
   ],
   "source": [
    "total[1]"
   ]
  },
  {
   "cell_type": "code",
   "execution_count": 38,
   "metadata": {},
   "outputs": [
    {
     "data": {
      "text/plain": [
       "67"
      ]
     },
     "execution_count": 38,
     "metadata": {},
     "output_type": "execute_result"
    }
   ],
   "source": [
    "index = random.randrange(0,len(FC))\n",
    "index"
   ]
  },
  {
   "cell_type": "code",
   "execution_count": null,
   "metadata": {},
   "outputs": [],
   "source": []
  },
  {
   "cell_type": "code",
   "execution_count": 64,
   "metadata": {},
   "outputs": [
    {
     "data": {
      "text/plain": [
       "([11.46,\n",
       "  15.28,\n",
       "  11.46,\n",
       "  15.28,\n",
       "  11.46,\n",
       "  7.64,\n",
       "  19.1,\n",
       "  15.28,\n",
       "  15.28,\n",
       "  15.28,\n",
       "  11.46,\n",
       "  15.28,\n",
       "  15.28,\n",
       "  0.0,\n",
       "  0.0,\n",
       "  0.0,\n",
       "  0.0,\n",
       "  0.0,\n",
       "  19.1,\n",
       "  3.82,\n",
       "  3.82,\n",
       "  3.82,\n",
       "  3.82,\n",
       "  0.0,\n",
       "  0.0,\n",
       "  0.0,\n",
       "  0.0,\n",
       "  3.82,\n",
       "  11.46,\n",
       "  0.0,\n",
       "  0.0,\n",
       "  0.0,\n",
       "  0.0,\n",
       "  0.0,\n",
       "  0.0,\n",
       "  0.0,\n",
       "  0.0,\n",
       "  12460863.79],\n",
       " 38)"
      ]
     },
     "execution_count": 64,
     "metadata": {},
     "output_type": "execute_result"
    }
   ],
   "source": [
    "def value(df):\n",
    "\n",
    "    multiplyer = random.uniform(1,8)\n",
    "    \n",
    "    index = random.randrange(0,len(df))\n",
    "    index_value = df[index]\n",
    "    \n",
    "    li = []\n",
    "    for i in index_value:\n",
    "        li.append(float((\"%.2f\"%(multiplyer*i))))\n",
    "        \n",
    "    return li\n",
    "        \n",
    "value(FC),len(value(FC))"
   ]
  },
  {
   "cell_type": "code",
   "execution_count": 65,
   "metadata": {},
   "outputs": [],
   "source": [
    "num_of_columns = 4000"
   ]
  },
  {
   "cell_type": "code",
   "execution_count": 66,
   "metadata": {},
   "outputs": [],
   "source": [
    "extended_data = []\n",
    "\n",
    "for i in range(len(total)):\n",
    "    for j in range(num_of_columns):\n",
    "        \n",
    "        total_val = [category[i]]\n",
    "        val_li = value(total[i])\n",
    "        \n",
    "        for k in val_li:\n",
    "            total_val.append(k)\n",
    "\n",
    "        extended_data.append(total_val)\n",
    "        \n",
    "extended_data = np.array(extended_data)"
   ]
  },
  {
   "cell_type": "code",
   "execution_count": 67,
   "metadata": {},
   "outputs": [
    {
     "data": {
      "text/plain": [
       "array(['IL', '4.16', '4.16', '5.54', '5.54', '2.77', '2.77', '6.93',\n",
       "       '5.54', '6.93', '6.93', '4.16', '6.93', '6.93', '1.39', '6.93',\n",
       "       '5.54', '2.77', '5.54', '6.93', '6.93', '2.77', '1.39', '5.54',\n",
       "       '4.16', '4.16', '4.16', '2.77', '2.77', '4.16', '6.93', '6.93',\n",
       "       '6.93', '5.54', '2.77', '6.93', '4.16', '2.77', '5562724.06'],\n",
       "      dtype='<U12')"
      ]
     },
     "execution_count": 67,
     "metadata": {},
     "output_type": "execute_result"
    }
   ],
   "source": [
    "extended_data[0]"
   ]
  },
  {
   "cell_type": "code",
   "execution_count": 68,
   "metadata": {},
   "outputs": [
    {
     "data": {
      "text/plain": [
       "(12000,\n",
       " (12000, 39),\n",
       " array(['IL', '4.16', '4.16', '5.54', '5.54', '2.77', '2.77', '6.93',\n",
       "        '5.54', '6.93', '6.93', '4.16', '6.93', '6.93', '1.39', '6.93',\n",
       "        '5.54', '2.77', '5.54', '6.93', '6.93', '2.77', '1.39', '5.54',\n",
       "        '4.16', '4.16', '4.16', '2.77', '2.77', '4.16', '6.93', '6.93',\n",
       "        '6.93', '5.54', '2.77', '6.93', '4.16', '2.77', '5562724.06'],\n",
       "       dtype='<U12'),\n",
       " array(['DT', '5.18', '15.54', '0.0', '25.9', '25.9', '25.9', '5.18',\n",
       "        '25.9', '25.9', '25.9', '10.36', '25.9', '25.9', '0.0', '0.0',\n",
       "        '0.0', '0.0', '0.0', '5.18', '10.36', '10.36', '5.18', '10.36',\n",
       "        '0.0', '0.0', '0.0', '0.0', '10.36', '15.54', '0.0', '0.0', '0.0',\n",
       "        '0.0', '0.0', '0.0', '0.0', '0.0', '19739574.57'], dtype='<U12'))"
      ]
     },
     "execution_count": 68,
     "metadata": {},
     "output_type": "execute_result"
    }
   ],
   "source": [
    "length = len(extended_data)\n",
    "length, extended_data.shape , extended_data[0] , extended_data[-1]"
   ]
  },
  {
   "cell_type": "code",
   "execution_count": 69,
   "metadata": {},
   "outputs": [],
   "source": [
    "np.random.shuffle(extended_data)\n",
    "np.random.shuffle(extended_data)"
   ]
  },
  {
   "cell_type": "code",
   "execution_count": 72,
   "metadata": {},
   "outputs": [
    {
     "data": {
      "text/plain": [
       "39"
      ]
     },
     "execution_count": 72,
     "metadata": {},
     "output_type": "execute_result"
    }
   ],
   "source": [
    "len(heading)"
   ]
  },
  {
   "cell_type": "code",
   "execution_count": 73,
   "metadata": {},
   "outputs": [],
   "source": [
    "extended_data = np.insert(extended_data, 0, heading)\n",
    "extended_data = extended_data.reshape( (length+1, len(heading)) )"
   ]
  },
  {
   "cell_type": "code",
   "execution_count": 74,
   "metadata": {},
   "outputs": [
    {
     "data": {
      "text/plain": [
       "(12001,\n",
       " (12001, 39),\n",
       " array(['Type', 'P1', 'P2', 'P3', 'P4', 'P5', 'P6', 'P7', 'P8', 'P9',\n",
       "        'P10', 'P11', 'P12', 'P13', 'P14', 'P15', 'P16', 'P17', 'P18',\n",
       "        'P19', 'P20', 'P21', 'P22', 'P23', 'P24', 'P25', 'P26', 'P27',\n",
       "        'P28', 'P29', 'P30', 'P31', 'P32', 'P33', 'P34', 'P35', 'P36',\n",
       "        'P37', 'revenue'], dtype='<U12'),\n",
       " array(['IL', '8.93', '14.88', '11.9', '11.9', '5.95', '5.95', '14.88',\n",
       "        '2.98', '11.9', '11.9', '14.88', '5.95', '11.9', '11.9', '11.9',\n",
       "        '11.9', '8.93', '8.93', '14.88', '14.88', '14.88', '2.98', '2.98',\n",
       "        '14.88', '14.88', '14.88', '2.98', '8.93', '5.95', '14.88',\n",
       "        '14.88', '8.93', '8.93', '8.93', '11.9', '8.93', '5.95',\n",
       "        '20343271.81'], dtype='<U12'))"
      ]
     },
     "execution_count": 74,
     "metadata": {},
     "output_type": "execute_result"
    }
   ],
   "source": [
    "len(extended_data), extended_data.shape , extended_data[0] , extended_data[-1]"
   ]
  },
  {
   "cell_type": "code",
   "execution_count": 75,
   "metadata": {},
   "outputs": [],
   "source": [
    "with open('Extended_Restaurant_Data.csv', 'w', newline='') as file:\n",
    "    writer = csv.writer(file)\n",
    "    writer.writerows(extended_data)"
   ]
  },
  {
   "cell_type": "code",
   "execution_count": null,
   "metadata": {},
   "outputs": [],
   "source": []
  }
 ],
 "metadata": {
  "kernelspec": {
   "display_name": "Python 3",
   "language": "python",
   "name": "python3"
  },
  "language_info": {
   "codemirror_mode": {
    "name": "ipython",
    "version": 3
   },
   "file_extension": ".py",
   "mimetype": "text/x-python",
   "name": "python",
   "nbconvert_exporter": "python",
   "pygments_lexer": "ipython3",
   "version": "3.8.5"
  }
 },
 "nbformat": 4,
 "nbformat_minor": 4
}
