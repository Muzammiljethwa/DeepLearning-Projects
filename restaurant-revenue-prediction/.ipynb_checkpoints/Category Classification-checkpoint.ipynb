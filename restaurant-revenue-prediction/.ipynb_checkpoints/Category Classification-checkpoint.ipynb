{
 "cells": [
  {
   "cell_type": "code",
   "execution_count": 1,
   "metadata": {},
   "outputs": [],
   "source": [
    "import pandas as pd\n",
    "import numpy as np"
   ]
  },
  {
   "cell_type": "code",
   "execution_count": 2,
   "metadata": {},
   "outputs": [],
   "source": [
    "# data = pd.read_csv(\"Extended_Restaurant_Data.csv\")"
   ]
  },
  {
   "cell_type": "code",
   "execution_count": 79,
   "metadata": {},
   "outputs": [],
   "source": [
    "# x = data.drop(columns = [\"Type\"] )\n",
    "# y = data[\"Type\"]\n",
    "# x.head() , y.head()"
   ]
  },
  {
   "cell_type": "code",
   "execution_count": 76,
   "metadata": {},
   "outputs": [],
   "source": [
    "data = pd.read_csv(\"train.csv\")"
   ]
  },
  {
   "cell_type": "code",
   "execution_count": 78,
   "metadata": {},
   "outputs": [
    {
     "data": {
      "text/plain": [
       "(   P1   P2   P3   P4  P5  P6  P7  P8  P9  P10  ...  P29  P30  P31  P32  P33  \\\n",
       " 0   4  5.0  4.0  4.0   2   2   5   4   5    5  ...  3.0    5    3    4    5   \n",
       " 1   4  5.0  4.0  4.0   1   2   5   5   5    5  ...  3.0    0    0    0    0   \n",
       " 2   2  4.0  2.0  5.0   2   3   5   5   5    5  ...  3.0    0    0    0    0   \n",
       " 3   6  4.5  6.0  6.0   4   4  10   8  10   10  ...  7.5   25   12   10    6   \n",
       " 4   3  4.0  3.0  4.0   2   2   5   5   5    5  ...  3.0    5    1    3    2   \n",
       " \n",
       "    P34  P35  P36  P37    revenue  \n",
       " 0    5    4    3    4  5653753.0  \n",
       " 1    0    0    0    0  6923131.0  \n",
       " 2    0    0    0    0  2055379.0  \n",
       " 3   18   12   12    6  2675511.0  \n",
       " 4    3    4    3    3  4316715.0  \n",
       " \n",
       " [5 rows x 38 columns],\n",
       " 0    IL\n",
       " 1    FC\n",
       " 2    IL\n",
       " 3    IL\n",
       " 4    IL\n",
       " Name: Type, dtype: object)"
      ]
     },
     "execution_count": 78,
     "metadata": {},
     "output_type": "execute_result"
    }
   ],
   "source": [
    "x = data.drop(columns = [\"Id\",\"Open Date\",\"City\",\"City Group\",\"Type\"] )\n",
    "y = data[\"Type\"]\n",
    "x.head() , y.head()"
   ]
  },
  {
   "cell_type": "code",
   "execution_count": 77,
   "metadata": {},
   "outputs": [
    {
     "data": {
      "text/html": [
       "<div>\n",
       "<style scoped>\n",
       "    .dataframe tbody tr th:only-of-type {\n",
       "        vertical-align: middle;\n",
       "    }\n",
       "\n",
       "    .dataframe tbody tr th {\n",
       "        vertical-align: top;\n",
       "    }\n",
       "\n",
       "    .dataframe thead th {\n",
       "        text-align: right;\n",
       "    }\n",
       "</style>\n",
       "<table border=\"1\" class=\"dataframe\">\n",
       "  <thead>\n",
       "    <tr style=\"text-align: right;\">\n",
       "      <th></th>\n",
       "      <th>Id</th>\n",
       "      <th>Open Date</th>\n",
       "      <th>City</th>\n",
       "      <th>City Group</th>\n",
       "      <th>Type</th>\n",
       "      <th>P1</th>\n",
       "      <th>P2</th>\n",
       "      <th>P3</th>\n",
       "      <th>P4</th>\n",
       "      <th>P5</th>\n",
       "      <th>...</th>\n",
       "      <th>P29</th>\n",
       "      <th>P30</th>\n",
       "      <th>P31</th>\n",
       "      <th>P32</th>\n",
       "      <th>P33</th>\n",
       "      <th>P34</th>\n",
       "      <th>P35</th>\n",
       "      <th>P36</th>\n",
       "      <th>P37</th>\n",
       "      <th>revenue</th>\n",
       "    </tr>\n",
       "  </thead>\n",
       "  <tbody>\n",
       "    <tr>\n",
       "      <th>0</th>\n",
       "      <td>0</td>\n",
       "      <td>07/17/1999</td>\n",
       "      <td>İstanbul</td>\n",
       "      <td>Big Cities</td>\n",
       "      <td>IL</td>\n",
       "      <td>4</td>\n",
       "      <td>5.0</td>\n",
       "      <td>4.0</td>\n",
       "      <td>4.0</td>\n",
       "      <td>2</td>\n",
       "      <td>...</td>\n",
       "      <td>3.0</td>\n",
       "      <td>5</td>\n",
       "      <td>3</td>\n",
       "      <td>4</td>\n",
       "      <td>5</td>\n",
       "      <td>5</td>\n",
       "      <td>4</td>\n",
       "      <td>3</td>\n",
       "      <td>4</td>\n",
       "      <td>5653753.0</td>\n",
       "    </tr>\n",
       "    <tr>\n",
       "      <th>1</th>\n",
       "      <td>1</td>\n",
       "      <td>02/14/2008</td>\n",
       "      <td>Ankara</td>\n",
       "      <td>Big Cities</td>\n",
       "      <td>FC</td>\n",
       "      <td>4</td>\n",
       "      <td>5.0</td>\n",
       "      <td>4.0</td>\n",
       "      <td>4.0</td>\n",
       "      <td>1</td>\n",
       "      <td>...</td>\n",
       "      <td>3.0</td>\n",
       "      <td>0</td>\n",
       "      <td>0</td>\n",
       "      <td>0</td>\n",
       "      <td>0</td>\n",
       "      <td>0</td>\n",
       "      <td>0</td>\n",
       "      <td>0</td>\n",
       "      <td>0</td>\n",
       "      <td>6923131.0</td>\n",
       "    </tr>\n",
       "    <tr>\n",
       "      <th>2</th>\n",
       "      <td>2</td>\n",
       "      <td>03/09/2013</td>\n",
       "      <td>Diyarbakır</td>\n",
       "      <td>Other</td>\n",
       "      <td>IL</td>\n",
       "      <td>2</td>\n",
       "      <td>4.0</td>\n",
       "      <td>2.0</td>\n",
       "      <td>5.0</td>\n",
       "      <td>2</td>\n",
       "      <td>...</td>\n",
       "      <td>3.0</td>\n",
       "      <td>0</td>\n",
       "      <td>0</td>\n",
       "      <td>0</td>\n",
       "      <td>0</td>\n",
       "      <td>0</td>\n",
       "      <td>0</td>\n",
       "      <td>0</td>\n",
       "      <td>0</td>\n",
       "      <td>2055379.0</td>\n",
       "    </tr>\n",
       "    <tr>\n",
       "      <th>3</th>\n",
       "      <td>3</td>\n",
       "      <td>02/02/2012</td>\n",
       "      <td>Tokat</td>\n",
       "      <td>Other</td>\n",
       "      <td>IL</td>\n",
       "      <td>6</td>\n",
       "      <td>4.5</td>\n",
       "      <td>6.0</td>\n",
       "      <td>6.0</td>\n",
       "      <td>4</td>\n",
       "      <td>...</td>\n",
       "      <td>7.5</td>\n",
       "      <td>25</td>\n",
       "      <td>12</td>\n",
       "      <td>10</td>\n",
       "      <td>6</td>\n",
       "      <td>18</td>\n",
       "      <td>12</td>\n",
       "      <td>12</td>\n",
       "      <td>6</td>\n",
       "      <td>2675511.0</td>\n",
       "    </tr>\n",
       "    <tr>\n",
       "      <th>4</th>\n",
       "      <td>4</td>\n",
       "      <td>05/09/2009</td>\n",
       "      <td>Gaziantep</td>\n",
       "      <td>Other</td>\n",
       "      <td>IL</td>\n",
       "      <td>3</td>\n",
       "      <td>4.0</td>\n",
       "      <td>3.0</td>\n",
       "      <td>4.0</td>\n",
       "      <td>2</td>\n",
       "      <td>...</td>\n",
       "      <td>3.0</td>\n",
       "      <td>5</td>\n",
       "      <td>1</td>\n",
       "      <td>3</td>\n",
       "      <td>2</td>\n",
       "      <td>3</td>\n",
       "      <td>4</td>\n",
       "      <td>3</td>\n",
       "      <td>3</td>\n",
       "      <td>4316715.0</td>\n",
       "    </tr>\n",
       "  </tbody>\n",
       "</table>\n",
       "<p>5 rows × 43 columns</p>\n",
       "</div>"
      ],
      "text/plain": [
       "   Id   Open Date        City  City Group Type  P1   P2   P3   P4  P5  ...  \\\n",
       "0   0  07/17/1999    İstanbul  Big Cities   IL   4  5.0  4.0  4.0   2  ...   \n",
       "1   1  02/14/2008      Ankara  Big Cities   FC   4  5.0  4.0  4.0   1  ...   \n",
       "2   2  03/09/2013  Diyarbakır       Other   IL   2  4.0  2.0  5.0   2  ...   \n",
       "3   3  02/02/2012       Tokat       Other   IL   6  4.5  6.0  6.0   4  ...   \n",
       "4   4  05/09/2009   Gaziantep       Other   IL   3  4.0  3.0  4.0   2  ...   \n",
       "\n",
       "   P29  P30  P31  P32  P33  P34  P35  P36  P37    revenue  \n",
       "0  3.0    5    3    4    5    5    4    3    4  5653753.0  \n",
       "1  3.0    0    0    0    0    0    0    0    0  6923131.0  \n",
       "2  3.0    0    0    0    0    0    0    0    0  2055379.0  \n",
       "3  7.5   25   12   10    6   18   12   12    6  2675511.0  \n",
       "4  3.0    5    1    3    2    3    4    3    3  4316715.0  \n",
       "\n",
       "[5 rows x 43 columns]"
      ]
     },
     "execution_count": 77,
     "metadata": {},
     "output_type": "execute_result"
    }
   ],
   "source": [
    "data.head()"
   ]
  },
  {
   "cell_type": "code",
   "execution_count": 80,
   "metadata": {},
   "outputs": [
    {
     "data": {
      "text/plain": [
       "array(['IL', 'FC', 'DT'], dtype=object)"
      ]
     },
     "execution_count": 80,
     "metadata": {},
     "output_type": "execute_result"
    }
   ],
   "source": [
    "y.unique()"
   ]
  },
  {
   "cell_type": "code",
   "execution_count": 81,
   "metadata": {},
   "outputs": [
    {
     "data": {
      "text/plain": [
       "3"
      ]
     },
     "execution_count": 81,
     "metadata": {},
     "output_type": "execute_result"
    }
   ],
   "source": [
    "length = len(y.unique())\n",
    "length"
   ]
  },
  {
   "cell_type": "code",
   "execution_count": 82,
   "metadata": {},
   "outputs": [
    {
     "data": {
      "text/plain": [
       "FC    76\n",
       "IL    60\n",
       "DT     1\n",
       "Name: Type, dtype: int64"
      ]
     },
     "execution_count": 82,
     "metadata": {},
     "output_type": "execute_result"
    }
   ],
   "source": [
    "y.value_counts()"
   ]
  },
  {
   "cell_type": "code",
   "execution_count": 83,
   "metadata": {},
   "outputs": [
    {
     "data": {
      "text/plain": [
       "137"
      ]
     },
     "execution_count": 83,
     "metadata": {},
     "output_type": "execute_result"
    }
   ],
   "source": [
    "len(x)"
   ]
  },
  {
   "cell_type": "code",
   "execution_count": 85,
   "metadata": {},
   "outputs": [],
   "source": [
    "to = 20\n",
    "\n",
    "x_test = x.iloc[:to]\n",
    "y_test = y.iloc[:to]\n",
    "\n",
    "x_train = x.iloc[len(x_test):]\n",
    "y_train = y.iloc[len(y_test):]"
   ]
  },
  {
   "cell_type": "code",
   "execution_count": 86,
   "metadata": {},
   "outputs": [
    {
     "data": {
      "text/plain": [
       "((117, 38), (117,))"
      ]
     },
     "execution_count": 86,
     "metadata": {},
     "output_type": "execute_result"
    }
   ],
   "source": [
    "x_train.shape, y_train.shape"
   ]
  },
  {
   "cell_type": "code",
   "execution_count": 87,
   "metadata": {},
   "outputs": [
    {
     "data": {
      "text/plain": [
       "(38,)"
      ]
     },
     "execution_count": 87,
     "metadata": {},
     "output_type": "execute_result"
    }
   ],
   "source": [
    "train_shape =x_train.iloc[0].shape\n",
    "train_shape"
   ]
  },
  {
   "cell_type": "code",
   "execution_count": 88,
   "metadata": {},
   "outputs": [
    {
     "data": {
      "text/plain": [
       "38"
      ]
     },
     "execution_count": 88,
     "metadata": {},
     "output_type": "execute_result"
    }
   ],
   "source": [
    "predict_shape = (x_train.iloc[0].shape)[0]\n",
    "predict_shape"
   ]
  },
  {
   "cell_type": "code",
   "execution_count": 89,
   "metadata": {},
   "outputs": [
    {
     "data": {
      "text/plain": [
       "((20, 38), (20,))"
      ]
     },
     "execution_count": 89,
     "metadata": {},
     "output_type": "execute_result"
    }
   ],
   "source": [
    "x_test.shape, y_test.shape"
   ]
  },
  {
   "cell_type": "code",
   "execution_count": 90,
   "metadata": {},
   "outputs": [],
   "source": [
    "from sklearn.preprocessing import LabelEncoder\n",
    "\n",
    "y_train = LabelEncoder().fit_transform(y_train)\n",
    "y_test = LabelEncoder().fit_transform(y_test)"
   ]
  },
  {
   "cell_type": "code",
   "execution_count": 91,
   "metadata": {},
   "outputs": [
    {
     "data": {
      "text/plain": [
       "((117,), (20,))"
      ]
     },
     "execution_count": 91,
     "metadata": {},
     "output_type": "execute_result"
    }
   ],
   "source": [
    "y_train.shape, y_test.shape"
   ]
  },
  {
   "cell_type": "code",
   "execution_count": 92,
   "metadata": {},
   "outputs": [],
   "source": [
    "from tensorflow.keras import layers, Sequential"
   ]
  },
  {
   "cell_type": "code",
   "execution_count": 93,
   "metadata": {},
   "outputs": [],
   "source": [
    "model = Sequential([\n",
    "    \n",
    "    layers.Dense(128, activation = 'relu', input_shape = train_shape),\n",
    "    layers.Dense(64, activation = 'relu'),\n",
    "    layers.Dense(32, activation = 'relu'),\n",
    "    layers.Dense(32, activation = 'relu'),\n",
    "    layers.Dense(16, activation = 'relu'),\n",
    "    layers.Dense(8, activation = 'relu'),\n",
    "\n",
    "    layers.Dense(length, activation = 'sigmoid')\n",
    "                   ])"
   ]
  },
  {
   "cell_type": "code",
   "execution_count": 94,
   "metadata": {},
   "outputs": [],
   "source": [
    "model.compile(optimizer = \"adam\", loss = \"sparse_categorical_crossentropy\", \n",
    "              metrics = [\"accuracy\"])"
   ]
  },
  {
   "cell_type": "code",
   "execution_count": 95,
   "metadata": {},
   "outputs": [
    {
     "name": "stdout",
     "output_type": "stream",
     "text": [
      "Epoch 1/80\n",
      "3/3 [==============================] - 1s 59ms/step - loss: 28929.3711 - accuracy: 0.6237 - val_loss: 2325.5046 - val_accuracy: 0.3333\n",
      "Epoch 2/80\n",
      "3/3 [==============================] - 0s 7ms/step - loss: 14862.3467 - accuracy: 0.4946 - val_loss: 7910.6074 - val_accuracy: 0.6250\n",
      "Epoch 3/80\n",
      "3/3 [==============================] - 0s 7ms/step - loss: 13188.2637 - accuracy: 0.5269 - val_loss: 20579.3848 - val_accuracy: 0.3333\n",
      "Epoch 4/80\n",
      "3/3 [==============================] - 0s 7ms/step - loss: 7361.1211 - accuracy: 0.5161 - val_loss: 5782.7671 - val_accuracy: 0.6250\n",
      "Epoch 5/80\n",
      "3/3 [==============================] - 0s 7ms/step - loss: 9382.0762 - accuracy: 0.4409 - val_loss: 4140.4365 - val_accuracy: 0.6250\n",
      "Epoch 6/80\n",
      "3/3 [==============================] - 0s 7ms/step - loss: 1709.2009 - accuracy: 0.5806 - val_loss: 18171.5879 - val_accuracy: 0.3333\n",
      "Epoch 7/80\n",
      "3/3 [==============================] - 0s 7ms/step - loss: 7610.0103 - accuracy: 0.4194 - val_loss: 13205.3057 - val_accuracy: 0.6250\n",
      "Epoch 8/80\n",
      "3/3 [==============================] - 0s 7ms/step - loss: 17279.5801 - accuracy: 0.5806 - val_loss: 15919.6514 - val_accuracy: 0.6250\n",
      "Epoch 9/80\n",
      "3/3 [==============================] - 0s 7ms/step - loss: 8994.9121 - accuracy: 0.5269 - val_loss: 11061.9092 - val_accuracy: 0.3333\n",
      "Epoch 10/80\n",
      "3/3 [==============================] - 0s 7ms/step - loss: 2042.0620 - accuracy: 0.5161 - val_loss: 15846.7158 - val_accuracy: 0.3333\n",
      "Epoch 11/80\n",
      "3/3 [==============================] - 0s 7ms/step - loss: 6735.6909 - accuracy: 0.4946 - val_loss: 6048.0581 - val_accuracy: 0.6250\n",
      "Epoch 12/80\n",
      "3/3 [==============================] - 0s 7ms/step - loss: 1991.8894 - accuracy: 0.4731 - val_loss: 4053.9795 - val_accuracy: 0.6250\n",
      "Epoch 13/80\n",
      "3/3 [==============================] - 0s 7ms/step - loss: 4760.9424 - accuracy: 0.5054 - val_loss: 4819.9595 - val_accuracy: 0.6250\n",
      "Epoch 14/80\n",
      "3/3 [==============================] - 0s 7ms/step - loss: 1429.0897 - accuracy: 0.5806 - val_loss: 13508.7666 - val_accuracy: 0.3333\n",
      "Epoch 15/80\n",
      "3/3 [==============================] - 0s 7ms/step - loss: 6591.4429 - accuracy: 0.4194 - val_loss: 9671.0186 - val_accuracy: 0.6250\n",
      "Epoch 16/80\n",
      "3/3 [==============================] - 0s 7ms/step - loss: 11220.5830 - accuracy: 0.5806 - val_loss: 11065.3525 - val_accuracy: 0.6250\n",
      "Epoch 17/80\n",
      "3/3 [==============================] - 0s 7ms/step - loss: 8820.7900 - accuracy: 0.4624 - val_loss: 24234.4082 - val_accuracy: 0.3333\n",
      "Epoch 18/80\n",
      "3/3 [==============================] - 0s 7ms/step - loss: 11962.4170 - accuracy: 0.4194 - val_loss: 7310.5767 - val_accuracy: 0.6250\n",
      "Epoch 19/80\n",
      "3/3 [==============================] - 0s 7ms/step - loss: 8703.1230 - accuracy: 0.5806 - val_loss: 10286.9355 - val_accuracy: 0.6250\n",
      "Epoch 20/80\n",
      "3/3 [==============================] - 0s 7ms/step - loss: 7779.9995 - accuracy: 0.4624 - val_loss: 18312.0645 - val_accuracy: 0.3333\n",
      "Epoch 21/80\n",
      "3/3 [==============================] - 0s 7ms/step - loss: 7618.6157 - accuracy: 0.4086 - val_loss: 5590.1543 - val_accuracy: 0.6250\n",
      "Epoch 22/80\n",
      "3/3 [==============================] - 0s 7ms/step - loss: 3592.3179 - accuracy: 0.4839 - val_loss: 10781.8164 - val_accuracy: 0.3333\n",
      "Epoch 23/80\n",
      "3/3 [==============================] - 0s 7ms/step - loss: 3354.8909 - accuracy: 0.5806 - val_loss: 9862.1064 - val_accuracy: 0.6250\n",
      "Epoch 24/80\n",
      "3/3 [==============================] - 0s 7ms/step - loss: 7241.8125 - accuracy: 0.5806 - val_loss: 6104.9546 - val_accuracy: 0.3333\n",
      "Epoch 25/80\n",
      "3/3 [==============================] - 0s 6ms/step - loss: 2274.2498 - accuracy: 0.4516 - val_loss: 3867.4688 - val_accuracy: 0.6250\n",
      "Epoch 26/80\n",
      "3/3 [==============================] - 0s 7ms/step - loss: 3083.3635 - accuracy: 0.3763 - val_loss: 6420.7534 - val_accuracy: 0.6250\n",
      "Epoch 27/80\n",
      "3/3 [==============================] - 0s 7ms/step - loss: 4947.2139 - accuracy: 0.5806 - val_loss: 3798.1301 - val_accuracy: 0.3333\n",
      "Epoch 28/80\n",
      "3/3 [==============================] - 0s 8ms/step - loss: 1246.8424 - accuracy: 0.3978 - val_loss: 4235.4546 - val_accuracy: 0.6250\n",
      "Epoch 29/80\n",
      "3/3 [==============================] - 0s 7ms/step - loss: 1222.2460 - accuracy: 0.5699 - val_loss: 3716.8298 - val_accuracy: 0.3333\n",
      "Epoch 30/80\n",
      "3/3 [==============================] - 0s 7ms/step - loss: 5121.7568 - accuracy: 0.4516 - val_loss: 7249.1450 - val_accuracy: 0.6250\n",
      "Epoch 31/80\n",
      "3/3 [==============================] - 0s 7ms/step - loss: 5571.6699 - accuracy: 0.4839 - val_loss: 20821.4668 - val_accuracy: 0.3333\n",
      "Epoch 32/80\n",
      "3/3 [==============================] - 0s 7ms/step - loss: 9613.7744 - accuracy: 0.4194 - val_loss: 8069.5332 - val_accuracy: 0.6250\n",
      "Epoch 33/80\n",
      "3/3 [==============================] - 0s 7ms/step - loss: 8851.9648 - accuracy: 0.5806 - val_loss: 10025.2070 - val_accuracy: 0.6250\n",
      "Epoch 34/80\n",
      "3/3 [==============================] - 0s 6ms/step - loss: 7331.3145 - accuracy: 0.5806 - val_loss: 3799.7761 - val_accuracy: 0.6250\n",
      "Epoch 35/80\n",
      "3/3 [==============================] - 0s 7ms/step - loss: 2501.5134 - accuracy: 0.6344 - val_loss: 14507.7422 - val_accuracy: 0.3333\n",
      "Epoch 36/80\n",
      "3/3 [==============================] - 0s 7ms/step - loss: 7109.6846 - accuracy: 0.4194 - val_loss: 3732.8899 - val_accuracy: 0.6250\n",
      "Epoch 37/80\n",
      "3/3 [==============================] - 0s 8ms/step - loss: 2302.8625 - accuracy: 0.5806 - val_loss: 4939.6553 - val_accuracy: 0.6250\n",
      "Epoch 38/80\n",
      "3/3 [==============================] - 0s 7ms/step - loss: 2483.1172 - accuracy: 0.5054 - val_loss: 8236.4033 - val_accuracy: 0.3333\n",
      "Epoch 39/80\n",
      "3/3 [==============================] - 0s 7ms/step - loss: 2288.8101 - accuracy: 0.4194 - val_loss: 5689.2793 - val_accuracy: 0.6250\n",
      "Epoch 40/80\n",
      "3/3 [==============================] - 0s 7ms/step - loss: 5212.1572 - accuracy: 0.5806 - val_loss: 7540.0063 - val_accuracy: 0.6250\n",
      "Epoch 41/80\n",
      "3/3 [==============================] - 0s 7ms/step - loss: 4850.4346 - accuracy: 0.5806 - val_loss: 3403.7507 - val_accuracy: 0.3333\n",
      "Epoch 42/80\n",
      "3/3 [==============================] - 0s 7ms/step - loss: 864.3134 - accuracy: 0.4194 - val_loss: 3865.2024 - val_accuracy: 0.6250\n",
      "Epoch 43/80\n",
      "3/3 [==============================] - 0s 7ms/step - loss: 1288.2227 - accuracy: 0.5806 - val_loss: 4097.1846 - val_accuracy: 0.3333\n",
      "Epoch 44/80\n",
      "3/3 [==============================] - 0s 7ms/step - loss: 1048.7750 - accuracy: 0.4301 - val_loss: 4369.7056 - val_accuracy: 0.6250\n",
      "Epoch 45/80\n",
      "3/3 [==============================] - 0s 7ms/step - loss: 1253.5648 - accuracy: 0.5484 - val_loss: 3951.3582 - val_accuracy: 0.3333\n",
      "Epoch 46/80\n",
      "3/3 [==============================] - 0s 7ms/step - loss: 1076.5321 - accuracy: 0.5161 - val_loss: 3496.7363 - val_accuracy: 0.6250\n",
      "Epoch 47/80\n",
      "3/3 [==============================] - 0s 7ms/step - loss: 953.9538 - accuracy: 0.4624 - val_loss: 3402.2507 - val_accuracy: 0.6250\n",
      "Epoch 48/80\n",
      "3/3 [==============================] - 0s 7ms/step - loss: 795.6440 - accuracy: 0.5806 - val_loss: 5148.0552 - val_accuracy: 0.3333\n",
      "Epoch 49/80\n",
      "3/3 [==============================] - 0s 7ms/step - loss: 1573.6589 - accuracy: 0.4194 - val_loss: 4223.5273 - val_accuracy: 0.6250\n",
      "Epoch 50/80\n",
      "3/3 [==============================] - 0s 7ms/step - loss: 3107.8091 - accuracy: 0.5806 - val_loss: 4713.8833 - val_accuracy: 0.6250\n",
      "Epoch 51/80\n",
      "3/3 [==============================] - 0s 7ms/step - loss: 1949.7477 - accuracy: 0.5269 - val_loss: 8385.4150 - val_accuracy: 0.3333\n",
      "Epoch 52/80\n",
      "3/3 [==============================] - 0s 7ms/step - loss: 3193.9749 - accuracy: 0.4194 - val_loss: 4278.5210 - val_accuracy: 0.6250\n",
      "Epoch 53/80\n",
      "3/3 [==============================] - 0s 7ms/step - loss: 3206.9016 - accuracy: 0.5806 - val_loss: 5512.9707 - val_accuracy: 0.6250\n",
      "Epoch 54/80\n",
      "3/3 [==============================] - 0s 7ms/step - loss: 2078.9927 - accuracy: 0.5054 - val_loss: 4216.2988 - val_accuracy: 0.3333\n",
      "Epoch 55/80\n",
      "3/3 [==============================] - 0s 7ms/step - loss: 535.9728 - accuracy: 0.4409 - val_loss: 3485.6687 - val_accuracy: 0.6250\n",
      "Epoch 56/80\n",
      "3/3 [==============================] - 0s 7ms/step - loss: 747.7208 - accuracy: 0.5054 - val_loss: 3312.4785 - val_accuracy: 0.3333\n",
      "Epoch 57/80\n"
     ]
    },
    {
     "name": "stdout",
     "output_type": "stream",
     "text": [
      "3/3 [==============================] - 0s 7ms/step - loss: 612.9372 - accuracy: 0.6022 - val_loss: 3304.4700 - val_accuracy: 0.6250\n",
      "Epoch 58/80\n",
      "3/3 [==============================] - 0s 7ms/step - loss: 1044.3558 - accuracy: 0.4194 - val_loss: 3436.6716 - val_accuracy: 0.6250\n",
      "Epoch 59/80\n",
      "3/3 [==============================] - 0s 7ms/step - loss: 1005.5330 - accuracy: 0.5806 - val_loss: 4940.6172 - val_accuracy: 0.3333\n",
      "Epoch 60/80\n",
      "3/3 [==============================] - 0s 7ms/step - loss: 1302.6613 - accuracy: 0.4301 - val_loss: 3055.9675 - val_accuracy: 0.6250\n",
      "Epoch 61/80\n",
      "3/3 [==============================] - 0s 7ms/step - loss: 668.4243 - accuracy: 0.4194 - val_loss: 4043.2129 - val_accuracy: 0.6250\n",
      "Epoch 62/80\n",
      "3/3 [==============================] - 0s 7ms/step - loss: 2012.8929 - accuracy: 0.5806 - val_loss: 3240.8347 - val_accuracy: 0.6250\n",
      "Epoch 63/80\n",
      "3/3 [==============================] - 0s 7ms/step - loss: 2232.2207 - accuracy: 0.4194 - val_loss: 4993.9897 - val_accuracy: 0.3333\n",
      "Epoch 64/80\n",
      "3/3 [==============================] - 0s 7ms/step - loss: 1150.1755 - accuracy: 0.5806 - val_loss: 3824.9597 - val_accuracy: 0.6250\n",
      "Epoch 65/80\n",
      "3/3 [==============================] - 0s 7ms/step - loss: 1689.0856 - accuracy: 0.4409 - val_loss: 6704.0542 - val_accuracy: 0.3333\n",
      "Epoch 66/80\n",
      "3/3 [==============================] - 0s 7ms/step - loss: 2084.1011 - accuracy: 0.4301 - val_loss: 4577.4868 - val_accuracy: 0.6250\n",
      "Epoch 67/80\n",
      "3/3 [==============================] - 0s 7ms/step - loss: 2249.7405 - accuracy: 0.5806 - val_loss: 2833.4436 - val_accuracy: 0.6250\n",
      "Epoch 68/80\n",
      "3/3 [==============================] - 0s 7ms/step - loss: 2404.6855 - accuracy: 0.4839 - val_loss: 7288.6177 - val_accuracy: 0.3333\n",
      "Epoch 69/80\n",
      "3/3 [==============================] - ETA: 0s - loss: 3702.7407 - accuracy: 0.375 - 0s 7ms/step - loss: 2159.7485 - accuracy: 0.4731 - val_loss: 5522.8062 - val_accuracy: 0.6250\n",
      "Epoch 70/80\n",
      "3/3 [==============================] - 0s 7ms/step - loss: 4041.4922 - accuracy: 0.5806 - val_loss: 4655.3784 - val_accuracy: 0.6250\n",
      "Epoch 71/80\n",
      "3/3 [==============================] - ETA: 0s - loss: 3003.0212 - accuracy: 0.562 - 0s 7ms/step - loss: 2109.3848 - accuracy: 0.5484 - val_loss: 8793.1338 - val_accuracy: 0.3333\n",
      "Epoch 72/80\n",
      "3/3 [==============================] - 0s 7ms/step - loss: 3962.1116 - accuracy: 0.4194 - val_loss: 3203.4600 - val_accuracy: 0.6250\n",
      "Epoch 73/80\n",
      "3/3 [==============================] - 0s 7ms/step - loss: 1438.6134 - accuracy: 0.5806 - val_loss: 3962.4182 - val_accuracy: 0.6250\n",
      "Epoch 74/80\n",
      "3/3 [==============================] - 0s 7ms/step - loss: 1523.3010 - accuracy: 0.4624 - val_loss: 7264.1348 - val_accuracy: 0.3333\n",
      "Epoch 75/80\n",
      "3/3 [==============================] - 0s 7ms/step - loss: 2244.4375 - accuracy: 0.4516 - val_loss: 3527.7117 - val_accuracy: 0.6250\n",
      "Epoch 76/80\n",
      "3/3 [==============================] - 0s 7ms/step - loss: 606.9088 - accuracy: 0.6344 - val_loss: 2836.7412 - val_accuracy: 0.3333\n",
      "Epoch 77/80\n",
      "3/3 [==============================] - 0s 7ms/step - loss: 1027.7068 - accuracy: 0.4946 - val_loss: 3431.5046 - val_accuracy: 0.6250\n",
      "Epoch 78/80\n",
      "3/3 [==============================] - 0s 7ms/step - loss: 1299.3635 - accuracy: 0.4194 - val_loss: 3143.3516 - val_accuracy: 0.3333\n",
      "Epoch 79/80\n",
      "3/3 [==============================] - 0s 7ms/step - loss: 2166.8733 - accuracy: 0.4731 - val_loss: 5172.1919 - val_accuracy: 0.6250\n",
      "Epoch 80/80\n",
      "3/3 [==============================] - 0s 7ms/step - loss: 2152.0298 - accuracy: 0.5806 - val_loss: 6427.6274 - val_accuracy: 0.3333\n"
     ]
    }
   ],
   "source": [
    "history = model.fit(x_train, y_train, epochs = 80, validation_split = 0.2)"
   ]
  },
  {
   "cell_type": "code",
   "execution_count": 96,
   "metadata": {},
   "outputs": [
    {
     "name": "stdout",
     "output_type": "stream",
     "text": [
      "1/1 - 0s - loss: 48450.2500 - accuracy: 0.0000e+00\n"
     ]
    }
   ],
   "source": [
    "evaluation = model.evaluate(x_test,y_test,verbose=2)"
   ]
  },
  {
   "cell_type": "code",
   "execution_count": 97,
   "metadata": {},
   "outputs": [
    {
     "data": {
      "image/png": "[encoded data removed]",
      "text/plain": [
       "<Figure size 432x288 with 1 Axes>"
      ]
     },
     "metadata": {
      "needs_background": "light"
     },
     "output_type": "display_data"
    },
    {
     "data": {
      "image/png": "[encoded data removed]",
      "text/plain": [
       "<Figure size 432x288 with 1 Axes>"
      ]
     },
     "metadata": {
      "needs_background": "light"
     },
     "output_type": "display_data"
    }
   ],
   "source": [
    "import matplotlib.pyplot as plt\n",
    "\n",
    "acc = history.history['accuracy']\n",
    "val_acc = history.history['val_accuracy']\n",
    "loss = history.history['loss']\n",
    "val_loss = history.history['val_loss']\n",
    "epochs = range(1, len(acc) + 1)\n",
    "plt.plot(epochs, acc, 'bo', label='Training acc')\n",
    "plt.plot(epochs, val_acc, 'b', label='Validation acc')\n",
    "plt.title('Training and validation accuracy')\n",
    "plt.legend()\n",
    "plt.figure()\n",
    "plt.plot(epochs, loss, 'bo', label='Training loss')\n",
    "plt.plot(epochs, val_loss, 'b', label='Validation loss')\n",
    "plt.title('Training and validation loss')\n",
    "plt.legend()\n",
    "plt.show()"
   ]
  },
  {
   "cell_type": "code",
   "execution_count": 98,
   "metadata": {},
   "outputs": [],
   "source": [
    "model.save(\"classification_model.h5\")"
   ]
  },
  {
   "cell_type": "code",
   "execution_count": 99,
   "metadata": {},
   "outputs": [],
   "source": [
    "from tensorflow.keras.models import load_model\n",
    "\n",
    "loaded_model = load_model(\"classification_model.h5\")"
   ]
  },
  {
   "cell_type": "code",
   "execution_count": 100,
   "metadata": {},
   "outputs": [],
   "source": [
    "def find_max_index(prediction):\n",
    "    \n",
    "    a,d=0,0                                \n",
    "    for i in prediction[0]:                \n",
    "        if float(i)>a or float(i)==a:      \n",
    "            a=i                            \n",
    "            d=0                            \n",
    "        elif float(i)<a:                   \n",
    "            d=d+1    \n",
    "    index = len(prediction[0])-d-1\n",
    "    \n",
    "    return index"
   ]
  },
  {
   "cell_type": "code",
   "execution_count": 101,
   "metadata": {},
   "outputs": [
    {
     "data": {
      "text/plain": [
       "array(['IL', 'FC', 'DT'], dtype=object)"
      ]
     },
     "execution_count": 101,
     "metadata": {},
     "output_type": "execute_result"
    }
   ],
   "source": [
    "labels = y.unique()\n",
    "labels"
   ]
  },
  {
   "cell_type": "code",
   "execution_count": 102,
   "metadata": {},
   "outputs": [],
   "source": [
    "def predict(n, data, label):\n",
    "    \n",
    "    inp = np.array(data.iloc[n]).reshape((1,predict_shape))  \n",
    "    prediction = loaded_model.predict(inp)\n",
    "    \n",
    "    max_index = find_max_index(prediction)\n",
    "    \n",
    "    print(\"Predicted: %s\"%(labels[max_index]) + '\\n' + \"Actual   : %s\"%(labels[label[n]]))"
   ]
  },
  {
   "cell_type": "code",
   "execution_count": 103,
   "metadata": {},
   "outputs": [
    {
     "name": "stdout",
     "output_type": "stream",
     "text": [
      "Predicted: DT\n",
      "Actual   : FC\n",
      "\n",
      "Predicted: DT\n",
      "Actual   : FC\n"
     ]
    }
   ],
   "source": [
    "predict(50,x_train,y_train)\n",
    "print()\n",
    "predict(8,x_test,y_test)"
   ]
  },
  {
   "cell_type": "code",
   "execution_count": 104,
   "metadata": {},
   "outputs": [
    {
     "name": "stdout",
     "output_type": "stream",
     "text": [
      "Predicted: DT\n",
      "Actual   : FC\n",
      "\n"
     ]
    },
    {
     "ename": "IndexError",
     "evalue": "single positional indexer is out-of-bounds",
     "output_type": "error",
     "traceback": [
      "\u001b[1;31m---------------------------------------------------------------------------\u001b[0m",
      "\u001b[1;31mIndexError\u001b[0m                                Traceback (most recent call last)",
      "\u001b[1;32m<ipython-input-104-03ce876aca81>\u001b[0m in \u001b[0;36m<module>\u001b[1;34m\u001b[0m\n\u001b[0;32m      1\u001b[0m \u001b[0mrandom\u001b[0m \u001b[1;33m=\u001b[0m \u001b[1;33m[\u001b[0m\u001b[1;36m50\u001b[0m\u001b[1;33m,\u001b[0m\u001b[1;36m754\u001b[0m\u001b[1;33m,\u001b[0m\u001b[1;36m68\u001b[0m\u001b[1;33m,\u001b[0m\u001b[1;36m7500\u001b[0m\u001b[1;33m,\u001b[0m\u001b[1;36m69\u001b[0m\u001b[1;33m,\u001b[0m\u001b[1;36m9000\u001b[0m\u001b[1;33m,\u001b[0m\u001b[1;36m456\u001b[0m\u001b[1;33m,\u001b[0m\u001b[1;36m8825\u001b[0m\u001b[1;33m,\u001b[0m\u001b[1;36m4569\u001b[0m\u001b[1;33m,\u001b[0m\u001b[1;36m147\u001b[0m\u001b[1;33m,\u001b[0m\u001b[1;36m9958\u001b[0m\u001b[1;33m,\u001b[0m\u001b[1;36m6214\u001b[0m\u001b[1;33m,\u001b[0m\u001b[1;36m897\u001b[0m\u001b[1;33m,\u001b[0m\u001b[1;36m1234\u001b[0m\u001b[1;33m]\u001b[0m\u001b[1;33m\u001b[0m\u001b[1;33m\u001b[0m\u001b[0m\n\u001b[0;32m      2\u001b[0m \u001b[1;32mfor\u001b[0m \u001b[0mi\u001b[0m \u001b[1;32min\u001b[0m \u001b[0mrandom\u001b[0m\u001b[1;33m:\u001b[0m\u001b[1;33m\u001b[0m\u001b[1;33m\u001b[0m\u001b[0m\n\u001b[1;32m----> 3\u001b[1;33m     \u001b[0mpredict\u001b[0m\u001b[1;33m(\u001b[0m\u001b[0mi\u001b[0m\u001b[1;33m,\u001b[0m\u001b[0mx_train\u001b[0m\u001b[1;33m,\u001b[0m\u001b[0my_train\u001b[0m\u001b[1;33m)\u001b[0m\u001b[1;33m\u001b[0m\u001b[1;33m\u001b[0m\u001b[0m\n\u001b[0m\u001b[0;32m      4\u001b[0m     \u001b[0mprint\u001b[0m\u001b[1;33m(\u001b[0m\u001b[1;33m)\u001b[0m\u001b[1;33m\u001b[0m\u001b[1;33m\u001b[0m\u001b[0m\n",
      "\u001b[1;32m<ipython-input-102-cde928fb3cde>\u001b[0m in \u001b[0;36mpredict\u001b[1;34m(n, data, label)\u001b[0m\n\u001b[0;32m      1\u001b[0m \u001b[1;32mdef\u001b[0m \u001b[0mpredict\u001b[0m\u001b[1;33m(\u001b[0m\u001b[0mn\u001b[0m\u001b[1;33m,\u001b[0m \u001b[0mdata\u001b[0m\u001b[1;33m,\u001b[0m \u001b[0mlabel\u001b[0m\u001b[1;33m)\u001b[0m\u001b[1;33m:\u001b[0m\u001b[1;33m\u001b[0m\u001b[1;33m\u001b[0m\u001b[0m\n\u001b[0;32m      2\u001b[0m \u001b[1;33m\u001b[0m\u001b[0m\n\u001b[1;32m----> 3\u001b[1;33m     \u001b[0minp\u001b[0m \u001b[1;33m=\u001b[0m \u001b[0mnp\u001b[0m\u001b[1;33m.\u001b[0m\u001b[0marray\u001b[0m\u001b[1;33m(\u001b[0m\u001b[0mdata\u001b[0m\u001b[1;33m.\u001b[0m\u001b[0miloc\u001b[0m\u001b[1;33m[\u001b[0m\u001b[0mn\u001b[0m\u001b[1;33m]\u001b[0m\u001b[1;33m)\u001b[0m\u001b[1;33m.\u001b[0m\u001b[0mreshape\u001b[0m\u001b[1;33m(\u001b[0m\u001b[1;33m(\u001b[0m\u001b[1;36m1\u001b[0m\u001b[1;33m,\u001b[0m\u001b[0mpredict_shape\u001b[0m\u001b[1;33m)\u001b[0m\u001b[1;33m)\u001b[0m\u001b[1;33m\u001b[0m\u001b[1;33m\u001b[0m\u001b[0m\n\u001b[0m\u001b[0;32m      4\u001b[0m     \u001b[0mprediction\u001b[0m \u001b[1;33m=\u001b[0m \u001b[0mloaded_model\u001b[0m\u001b[1;33m.\u001b[0m\u001b[0mpredict\u001b[0m\u001b[1;33m(\u001b[0m\u001b[0minp\u001b[0m\u001b[1;33m)\u001b[0m\u001b[1;33m\u001b[0m\u001b[1;33m\u001b[0m\u001b[0m\n\u001b[0;32m      5\u001b[0m \u001b[1;33m\u001b[0m\u001b[0m\n",
      "\u001b[1;32mD:\\Anaconda\\lib\\site-packages\\pandas\\core\\indexing.py\u001b[0m in \u001b[0;36m__getitem__\u001b[1;34m(self, key)\u001b[0m\n\u001b[0;32m    877\u001b[0m \u001b[1;33m\u001b[0m\u001b[0m\n\u001b[0;32m    878\u001b[0m             \u001b[0mmaybe_callable\u001b[0m \u001b[1;33m=\u001b[0m \u001b[0mcom\u001b[0m\u001b[1;33m.\u001b[0m\u001b[0mapply_if_callable\u001b[0m\u001b[1;33m(\u001b[0m\u001b[0mkey\u001b[0m\u001b[1;33m,\u001b[0m \u001b[0mself\u001b[0m\u001b[1;33m.\u001b[0m\u001b[0mobj\u001b[0m\u001b[1;33m)\u001b[0m\u001b[1;33m\u001b[0m\u001b[1;33m\u001b[0m\u001b[0m\n\u001b[1;32m--> 879\u001b[1;33m             \u001b[1;32mreturn\u001b[0m \u001b[0mself\u001b[0m\u001b[1;33m.\u001b[0m\u001b[0m_getitem_axis\u001b[0m\u001b[1;33m(\u001b[0m\u001b[0mmaybe_callable\u001b[0m\u001b[1;33m,\u001b[0m \u001b[0maxis\u001b[0m\u001b[1;33m=\u001b[0m\u001b[0maxis\u001b[0m\u001b[1;33m)\u001b[0m\u001b[1;33m\u001b[0m\u001b[1;33m\u001b[0m\u001b[0m\n\u001b[0m\u001b[0;32m    880\u001b[0m \u001b[1;33m\u001b[0m\u001b[0m\n\u001b[0;32m    881\u001b[0m     \u001b[1;32mdef\u001b[0m \u001b[0m_is_scalar_access\u001b[0m\u001b[1;33m(\u001b[0m\u001b[0mself\u001b[0m\u001b[1;33m,\u001b[0m \u001b[0mkey\u001b[0m\u001b[1;33m:\u001b[0m \u001b[0mTuple\u001b[0m\u001b[1;33m)\u001b[0m\u001b[1;33m:\u001b[0m\u001b[1;33m\u001b[0m\u001b[1;33m\u001b[0m\u001b[0m\n",
      "\u001b[1;32mD:\\Anaconda\\lib\\site-packages\\pandas\\core\\indexing.py\u001b[0m in \u001b[0;36m_getitem_axis\u001b[1;34m(self, key, axis)\u001b[0m\n\u001b[0;32m   1494\u001b[0m \u001b[1;33m\u001b[0m\u001b[0m\n\u001b[0;32m   1495\u001b[0m             \u001b[1;31m# validate the location\u001b[0m\u001b[1;33m\u001b[0m\u001b[1;33m\u001b[0m\u001b[1;33m\u001b[0m\u001b[0m\n\u001b[1;32m-> 1496\u001b[1;33m             \u001b[0mself\u001b[0m\u001b[1;33m.\u001b[0m\u001b[0m_validate_integer\u001b[0m\u001b[1;33m(\u001b[0m\u001b[0mkey\u001b[0m\u001b[1;33m,\u001b[0m \u001b[0maxis\u001b[0m\u001b[1;33m)\u001b[0m\u001b[1;33m\u001b[0m\u001b[1;33m\u001b[0m\u001b[0m\n\u001b[0m\u001b[0;32m   1497\u001b[0m \u001b[1;33m\u001b[0m\u001b[0m\n\u001b[0;32m   1498\u001b[0m             \u001b[1;32mreturn\u001b[0m \u001b[0mself\u001b[0m\u001b[1;33m.\u001b[0m\u001b[0mobj\u001b[0m\u001b[1;33m.\u001b[0m\u001b[0m_ixs\u001b[0m\u001b[1;33m(\u001b[0m\u001b[0mkey\u001b[0m\u001b[1;33m,\u001b[0m \u001b[0maxis\u001b[0m\u001b[1;33m=\u001b[0m\u001b[0maxis\u001b[0m\u001b[1;33m)\u001b[0m\u001b[1;33m\u001b[0m\u001b[1;33m\u001b[0m\u001b[0m\n",
      "\u001b[1;32mD:\\Anaconda\\lib\\site-packages\\pandas\\core\\indexing.py\u001b[0m in \u001b[0;36m_validate_integer\u001b[1;34m(self, key, axis)\u001b[0m\n\u001b[0;32m   1435\u001b[0m         \u001b[0mlen_axis\u001b[0m \u001b[1;33m=\u001b[0m \u001b[0mlen\u001b[0m\u001b[1;33m(\u001b[0m\u001b[0mself\u001b[0m\u001b[1;33m.\u001b[0m\u001b[0mobj\u001b[0m\u001b[1;33m.\u001b[0m\u001b[0m_get_axis\u001b[0m\u001b[1;33m(\u001b[0m\u001b[0maxis\u001b[0m\u001b[1;33m)\u001b[0m\u001b[1;33m)\u001b[0m\u001b[1;33m\u001b[0m\u001b[1;33m\u001b[0m\u001b[0m\n\u001b[0;32m   1436\u001b[0m         \u001b[1;32mif\u001b[0m \u001b[0mkey\u001b[0m \u001b[1;33m>=\u001b[0m \u001b[0mlen_axis\u001b[0m \u001b[1;32mor\u001b[0m \u001b[0mkey\u001b[0m \u001b[1;33m<\u001b[0m \u001b[1;33m-\u001b[0m\u001b[0mlen_axis\u001b[0m\u001b[1;33m:\u001b[0m\u001b[1;33m\u001b[0m\u001b[1;33m\u001b[0m\u001b[0m\n\u001b[1;32m-> 1437\u001b[1;33m             \u001b[1;32mraise\u001b[0m \u001b[0mIndexError\u001b[0m\u001b[1;33m(\u001b[0m\u001b[1;34m\"single positional indexer is out-of-bounds\"\u001b[0m\u001b[1;33m)\u001b[0m\u001b[1;33m\u001b[0m\u001b[1;33m\u001b[0m\u001b[0m\n\u001b[0m\u001b[0;32m   1438\u001b[0m \u001b[1;33m\u001b[0m\u001b[0m\n\u001b[0;32m   1439\u001b[0m     \u001b[1;31m# -------------------------------------------------------------------\u001b[0m\u001b[1;33m\u001b[0m\u001b[1;33m\u001b[0m\u001b[1;33m\u001b[0m\u001b[0m\n",
      "\u001b[1;31mIndexError\u001b[0m: single positional indexer is out-of-bounds"
     ]
    }
   ],
   "source": [
    "random = [50,754,68,7500,69,9000,456,8825,4569,147,9958,6214,897,1234]\n",
    "for i in random:\n",
    "    predict(i,x_train,y_train)\n",
    "    print()"
   ]
  },
  {
   "cell_type": "markdown",
   "metadata": {},
   "source": [
    "# Predicting Old Data"
   ]
  },
  {
   "cell_type": "code",
   "execution_count": 105,
   "metadata": {},
   "outputs": [
    {
     "data": {
      "text/html": [
       "<div>\n",
       "<style scoped>\n",
       "    .dataframe tbody tr th:only-of-type {\n",
       "        vertical-align: middle;\n",
       "    }\n",
       "\n",
       "    .dataframe tbody tr th {\n",
       "        vertical-align: top;\n",
       "    }\n",
       "\n",
       "    .dataframe thead th {\n",
       "        text-align: right;\n",
       "    }\n",
       "</style>\n",
       "<table border=\"1\" class=\"dataframe\">\n",
       "  <thead>\n",
       "    <tr style=\"text-align: right;\">\n",
       "      <th></th>\n",
       "      <th>Id</th>\n",
       "      <th>Open Date</th>\n",
       "      <th>City</th>\n",
       "      <th>City Group</th>\n",
       "      <th>Type</th>\n",
       "      <th>P1</th>\n",
       "      <th>P2</th>\n",
       "      <th>P3</th>\n",
       "      <th>P4</th>\n",
       "      <th>P5</th>\n",
       "      <th>...</th>\n",
       "      <th>P29</th>\n",
       "      <th>P30</th>\n",
       "      <th>P31</th>\n",
       "      <th>P32</th>\n",
       "      <th>P33</th>\n",
       "      <th>P34</th>\n",
       "      <th>P35</th>\n",
       "      <th>P36</th>\n",
       "      <th>P37</th>\n",
       "      <th>revenue</th>\n",
       "    </tr>\n",
       "  </thead>\n",
       "  <tbody>\n",
       "    <tr>\n",
       "      <th>0</th>\n",
       "      <td>0</td>\n",
       "      <td>07/17/1999</td>\n",
       "      <td>İstanbul</td>\n",
       "      <td>Big Cities</td>\n",
       "      <td>IL</td>\n",
       "      <td>4</td>\n",
       "      <td>5.0</td>\n",
       "      <td>4.0</td>\n",
       "      <td>4.0</td>\n",
       "      <td>2</td>\n",
       "      <td>...</td>\n",
       "      <td>3.0</td>\n",
       "      <td>5</td>\n",
       "      <td>3</td>\n",
       "      <td>4</td>\n",
       "      <td>5</td>\n",
       "      <td>5</td>\n",
       "      <td>4</td>\n",
       "      <td>3</td>\n",
       "      <td>4</td>\n",
       "      <td>5653753.0</td>\n",
       "    </tr>\n",
       "    <tr>\n",
       "      <th>1</th>\n",
       "      <td>1</td>\n",
       "      <td>02/14/2008</td>\n",
       "      <td>Ankara</td>\n",
       "      <td>Big Cities</td>\n",
       "      <td>FC</td>\n",
       "      <td>4</td>\n",
       "      <td>5.0</td>\n",
       "      <td>4.0</td>\n",
       "      <td>4.0</td>\n",
       "      <td>1</td>\n",
       "      <td>...</td>\n",
       "      <td>3.0</td>\n",
       "      <td>0</td>\n",
       "      <td>0</td>\n",
       "      <td>0</td>\n",
       "      <td>0</td>\n",
       "      <td>0</td>\n",
       "      <td>0</td>\n",
       "      <td>0</td>\n",
       "      <td>0</td>\n",
       "      <td>6923131.0</td>\n",
       "    </tr>\n",
       "    <tr>\n",
       "      <th>2</th>\n",
       "      <td>2</td>\n",
       "      <td>03/09/2013</td>\n",
       "      <td>Diyarbakır</td>\n",
       "      <td>Other</td>\n",
       "      <td>IL</td>\n",
       "      <td>2</td>\n",
       "      <td>4.0</td>\n",
       "      <td>2.0</td>\n",
       "      <td>5.0</td>\n",
       "      <td>2</td>\n",
       "      <td>...</td>\n",
       "      <td>3.0</td>\n",
       "      <td>0</td>\n",
       "      <td>0</td>\n",
       "      <td>0</td>\n",
       "      <td>0</td>\n",
       "      <td>0</td>\n",
       "      <td>0</td>\n",
       "      <td>0</td>\n",
       "      <td>0</td>\n",
       "      <td>2055379.0</td>\n",
       "    </tr>\n",
       "    <tr>\n",
       "      <th>3</th>\n",
       "      <td>3</td>\n",
       "      <td>02/02/2012</td>\n",
       "      <td>Tokat</td>\n",
       "      <td>Other</td>\n",
       "      <td>IL</td>\n",
       "      <td>6</td>\n",
       "      <td>4.5</td>\n",
       "      <td>6.0</td>\n",
       "      <td>6.0</td>\n",
       "      <td>4</td>\n",
       "      <td>...</td>\n",
       "      <td>7.5</td>\n",
       "      <td>25</td>\n",
       "      <td>12</td>\n",
       "      <td>10</td>\n",
       "      <td>6</td>\n",
       "      <td>18</td>\n",
       "      <td>12</td>\n",
       "      <td>12</td>\n",
       "      <td>6</td>\n",
       "      <td>2675511.0</td>\n",
       "    </tr>\n",
       "    <tr>\n",
       "      <th>4</th>\n",
       "      <td>4</td>\n",
       "      <td>05/09/2009</td>\n",
       "      <td>Gaziantep</td>\n",
       "      <td>Other</td>\n",
       "      <td>IL</td>\n",
       "      <td>3</td>\n",
       "      <td>4.0</td>\n",
       "      <td>3.0</td>\n",
       "      <td>4.0</td>\n",
       "      <td>2</td>\n",
       "      <td>...</td>\n",
       "      <td>3.0</td>\n",
       "      <td>5</td>\n",
       "      <td>1</td>\n",
       "      <td>3</td>\n",
       "      <td>2</td>\n",
       "      <td>3</td>\n",
       "      <td>4</td>\n",
       "      <td>3</td>\n",
       "      <td>3</td>\n",
       "      <td>4316715.0</td>\n",
       "    </tr>\n",
       "  </tbody>\n",
       "</table>\n",
       "<p>5 rows × 43 columns</p>\n",
       "</div>"
      ],
      "text/plain": [
       "   Id   Open Date        City  City Group Type  P1   P2   P3   P4  P5  ...  \\\n",
       "0   0  07/17/1999    İstanbul  Big Cities   IL   4  5.0  4.0  4.0   2  ...   \n",
       "1   1  02/14/2008      Ankara  Big Cities   FC   4  5.0  4.0  4.0   1  ...   \n",
       "2   2  03/09/2013  Diyarbakır       Other   IL   2  4.0  2.0  5.0   2  ...   \n",
       "3   3  02/02/2012       Tokat       Other   IL   6  4.5  6.0  6.0   4  ...   \n",
       "4   4  05/09/2009   Gaziantep       Other   IL   3  4.0  3.0  4.0   2  ...   \n",
       "\n",
       "   P29  P30  P31  P32  P33  P34  P35  P36  P37    revenue  \n",
       "0  3.0    5    3    4    5    5    4    3    4  5653753.0  \n",
       "1  3.0    0    0    0    0    0    0    0    0  6923131.0  \n",
       "2  3.0    0    0    0    0    0    0    0    0  2055379.0  \n",
       "3  7.5   25   12   10    6   18   12   12    6  2675511.0  \n",
       "4  3.0    5    1    3    2    3    4    3    3  4316715.0  \n",
       "\n",
       "[5 rows x 43 columns]"
      ]
     },
     "execution_count": 105,
     "metadata": {},
     "output_type": "execute_result"
    }
   ],
   "source": [
    "old_data = pd.read_csv(\"train.csv\")\n",
    "old_data.head()"
   ]
  },
  {
   "cell_type": "code",
   "execution_count": 106,
   "metadata": {},
   "outputs": [],
   "source": [
    "old_x = old_data.drop(columns = [\"Id\",\"Open Date\",\"City\",\"City Group\",\"Type\"] )\n",
    "old_y = old_data[\"Type\"]"
   ]
  },
  {
   "cell_type": "code",
   "execution_count": 107,
   "metadata": {},
   "outputs": [],
   "source": [
    "from sklearn.preprocessing import LabelEncoder\n",
    "\n",
    "old_y = LabelEncoder().fit_transform(old_y)"
   ]
  },
  {
   "cell_type": "code",
   "execution_count": 108,
   "metadata": {},
   "outputs": [
    {
     "name": "stdout",
     "output_type": "stream",
     "text": [
      "Predicted: DT\n",
      "Actual   : DT\n",
      "\n",
      "Predicted: DT\n",
      "Actual   : FC\n",
      "\n",
      "Predicted: DT\n",
      "Actual   : FC\n"
     ]
    }
   ],
   "source": [
    "predict(15,old_x,old_y)\n",
    "print()\n",
    "predict(95,old_x,old_y)\n",
    "print()\n",
    "predict(130,old_x,old_y)"
   ]
  },
  {
   "cell_type": "code",
   "execution_count": null,
   "metadata": {},
   "outputs": [],
   "source": []
  }
 ],
 "metadata": {
  "kernelspec": {
   "display_name": "Python 3",
   "language": "python",
   "name": "python3"
  },
  "language_info": {
   "codemirror_mode": {
    "name": "ipython",
    "version": 3
   },
   "file_extension": ".py",
   "mimetype": "text/x-python",
   "name": "python",
   "nbconvert_exporter": "python",
   "pygments_lexer": "ipython3",
   "version": "3.8.5"
  }
 },
 "nbformat": 4,
 "nbformat_minor": 4
}
